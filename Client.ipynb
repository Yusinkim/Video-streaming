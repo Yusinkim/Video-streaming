{
 "cells": [
  {
   "cell_type": "markdown",
   "metadata": {},
   "source": [
    "# 이미지 수신"
   ]
  },
  {
   "cell_type": "code",
   "execution_count": 1,
   "metadata": {},
   "outputs": [
    {
     "name": "stdout",
     "output_type": "stream",
     "text": [
      "Finished!\n"
     ]
    },
    {
     "data": {
      "image/png": "[encoded data removed]",
      "text/plain": [
       "<PIL.PngImagePlugin.PngImageFile image mode=RGBA size=202x204 at 0x1BCB05E2BE0>"
      ]
     },
     "execution_count": 1,
     "metadata": {},
     "output_type": "execute_result"
    }
   ],
   "source": [
    "import socket\n",
    "from PIL import Image\n",
    "import io\n",
    "\n",
    "client = socket.socket(socket.AF_INET, socket.SOCK_DGRAM)\n",
    "client.setsockopt(socket.SOL_SOCKET, socket.SO_BROADCAST, 1)\n",
    "client.bind(('', 45000))\n",
    "\n",
    "n, addr = client.recvfrom(256)\n",
    "datas = b''\n",
    "\n",
    "for i in range(int(n.decode())):\n",
    "    datas += client.recvfrom(65536)[0]\n",
    "\n",
    "client.close()\n",
    "\n",
    "print('Finished!')\n",
    "\n",
    "Image.open(io.BytesIO(datas))"
   ]
  },
  {
   "cell_type": "markdown",
   "metadata": {},
   "source": [
    "# 동영상 수신+재생 (broadcast)"
   ]
  },
  {
   "cell_type": "code",
   "execution_count": 8,
   "metadata": {},
   "outputs": [
    {
     "name": "stdout",
     "output_type": "stream",
     "text": [
      "Finished\n"
     ]
    }
   ],
   "source": [
    "import socket\n",
    "import numpy as np\n",
    "import cv2\n",
    "import io\n",
    "\n",
    "client = socket.socket(socket.AF_INET, socket.SOCK_DGRAM)\n",
    "client.setsockopt(socket.SOL_SOCKET, socket.SO_BROADCAST, 1)\n",
    "client.bind(('', 45000))\n",
    "\n",
    "frames = client.recvfrom(256)[0]\n",
    "frames = int(float(frames.decode()))\n",
    "\n",
    "frame = client.recvfrom(256)[0]\n",
    "frame = round(float(frame.decode()))\n",
    "\n",
    "n = client.recvfrom(256)[0]\n",
    "n = int(n.decode())\n",
    "\n",
    "datas = [b''] * frames\n",
    "data = ''\n",
    "\n",
    "for i in range(frames):\n",
    "    for j in range(n):\n",
    "        datas[i] += client.recvfrom(65536)[0]\n",
    "        \n",
    "print('Finished')\n",
    "\n",
    "client.close()\n",
    "\n",
    "for i in range(frames):\n",
    "    datas[i] = np.frombuffer(datas[i], dtype = 'uint8')\n",
    "\n",
    "for i in datas:\n",
    "    data = cv2.imdecode(np.array(i, dtype = 'uint8'), 1)\n",
    "    cv2.namedWindow('Video', cv2.WINDOW_NORMAL)\n",
    "    cv2.imshow('Video', data) \n",
    "    k = cv2.waitKey(20) & 0xFF\n",
    "\n",
    "cv2.destroyAllWindows()"
   ]
  },
  {
   "cell_type": "markdown",
   "metadata": {},
   "source": [
    "# 재민's 동영상 수신+재생 (TCP)"
   ]
  },
  {
   "cell_type": "code",
   "execution_count": 2,
   "metadata": {},
   "outputs": [
    {
     "name": "stdout",
     "output_type": "stream",
     "text": [
      "int() argument must be a string, a bytes-like object or a number, not 'NoneType'\n"
     ]
    }
   ],
   "source": [
    "import socket as sk\n",
    "import cv2\n",
    "import numpy as np\n",
    "\n",
    "def recv_buf(sock, count):\n",
    "    buf = b''\n",
    "    while count:\n",
    "        new_buf = sock.recv(count)\n",
    "        if not new_buf: return None\n",
    "        buf += new_buf\n",
    "        count -= len(new_buf)\n",
    "    return buf\n",
    "          \n",
    "TCP_IP = ''\n",
    "TCP_PORT = 5001\n",
    "\n",
    "TCP_client_sk = sk.socket(sk.AF_INET, sk.SOCK_STREAM)\n",
    "TCP_client_sk.bind((TCP_IP, TCP_PORT))\n",
    "TCP_client_sk.listen(True)\n",
    "TCP_recv_sk, addr = TCP_client_sk.accept()\n",
    "\n",
    "while True:\n",
    "    try:\n",
    "        length = recv_buf(TCP_recv_sk, 16)\n",
    "        str_stream = recv_buf(TCP_recv_sk, int(length))\n",
    "    except Exception as e:\n",
    "        print(e)\n",
    "        break\n",
    "        \n",
    "    frame_data = np.frombuffer(str_stream, dtype='uint8')\n",
    "    TCP_client_sk.close()\n",
    "    de_frame=cv2.imdecode(frame_data,1)\n",
    "    cv2.imshow('SERVER',de_frame)\n",
    "    cv2.waitKey(20)\n",
    "cv2.destroyAllWindows()"
   ]
  },
  {
   "cell_type": "code",
   "execution_count": null,
   "metadata": {},
   "outputs": [],
   "source": []
  }
 ],
 "metadata": {
  "kernelspec": {
   "display_name": "Python 3",
   "language": "python",
   "name": "python3"
  },
  "language_info": {
   "codemirror_mode": {
    "name": "ipython",
    "version": 3
   },
   "file_extension": ".py",
   "mimetype": "text/x-python",
   "name": "python",
   "nbconvert_exporter": "python",
   "pygments_lexer": "ipython3",
   "version": "3.7.0"
  }
 },
 "nbformat": 4,
 "nbformat_minor": 2
}
