{
 "cells": [
  {
   "cell_type": "markdown",
   "metadata": {},
   "source": [
    "# mp4 파일 다운로드"
   ]
  },
  {
   "cell_type": "code",
   "execution_count": 3,
   "metadata": {},
   "outputs": [],
   "source": [
    "import socket\n",
    "\n",
    "client = socket.socket(socket.AF_INET, socket.SOCK_DGRAM)\n",
    "client.bind(('', 45000))\n",
    "\n",
    "n_h = int(client.recvfrom(1024)[0].decode())\n",
    "n_d = int(client.recvfrom(1024)[0].decode())\n",
    "data = b''\n",
    "\n",
    "for i in range(n_h):\n",
    "    data += client.recvfrom(65536)[0]\n",
    "\n",
    "for i in range(n_d):\n",
    "    data += client.recvfrom(65536)[0]\n",
    "    open('/Users/winlab/Desktop/r_video.mp4','wb').write(data)\n",
    "    \n",
    "client.close()"
   ]
  },
  {
   "cell_type": "markdown",
   "metadata": {},
   "source": [
    "# mp4 파일 다운로드 하면서 재생"
   ]
  },
  {
   "cell_type": "code",
   "execution_count": 2,
   "metadata": {},
   "outputs": [],
   "source": [
    "import socket\n",
    "import numpy as np\n",
    "import cv2\n",
    "import threading\n",
    "import time\n",
    "\n",
    "client = socket.socket(socket.AF_INET, socket.SOCK_DGRAM)\n",
    "client.bind(('', 45000))\n",
    "\n",
    "n_h = int(client.recvfrom(1024)[0].decode())\n",
    "n_d = int(client.recvfrom(1024)[0].decode())\n",
    "frames = int(float(client.recvfrom(1024)[0].decode()))\n",
    "data = b''\n",
    "for i in range(n_h):\n",
    "    data += client.recvfrom(65536)[0]\n",
    "\n",
    "def recv():\n",
    "    global data\n",
    "    for i in range(n_d):\n",
    "        data += client.recvfrom(65536)[0]\n",
    "        open('/Users/winlab/Desktop/r_video.mp4','wb').write(data)\n",
    "        \n",
    "t = threading.Thread(target = recv)\n",
    "t.start()\n",
    "\n",
    "i = 0\n",
    "cv2.namedWindow('Video', cv2.WINDOW_NORMAL)\n",
    "\n",
    "while 1:\n",
    "    video = cv2.VideoCapture('/Users/winlab/Desktop/r_video.mp4')\n",
    "    \n",
    "    if video.get(5) == 0:\n",
    "        time.sleep(0.1)\n",
    "        continue\n",
    "        \n",
    "    f = round(1/video.get(5)*1000)\n",
    "    \n",
    "    for i in range(i):\n",
    "        video.read()\n",
    "        \n",
    "    for i in range(i, int(video.get(7))):\n",
    "        ret, frame = video.read()\n",
    "        if ret:\n",
    "            cv2.imshow('Video', frame)\n",
    "            cv2.waitKey(f-3)\n",
    "        else:\n",
    "            break\n",
    "    \n",
    "    if i != frames - 1:\n",
    "        pass\n",
    "    else:\n",
    "        break\n",
    "    \n",
    "    video.release()\n",
    "\n",
    "cv2.destroyAllWindows()\n",
    "client.close()"
   ]
  },
  {
   "cell_type": "code",
   "execution_count": null,
   "metadata": {},
   "outputs": [],
   "source": [
    "cv2.destroyAllWindows()"
   ]
  }
 ],
 "metadata": {
  "kernelspec": {
   "display_name": "Python 3",
   "language": "python",
   "name": "python3"
  },
  "language_info": {
   "codemirror_mode": {
    "name": "ipython",
    "version": 3
   },
   "file_extension": ".py",
   "mimetype": "text/x-python",
   "name": "python",
   "nbconvert_exporter": "python",
   "pygments_lexer": "ipython3",
   "version": "3.7.0"
  }
 },
 "nbformat": 4,
 "nbformat_minor": 2
}
