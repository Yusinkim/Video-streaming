{
 "cells": [
  {
   "cell_type": "markdown",
   "metadata": {},
   "source": [
    "# mp4 파일 전송"
   ]
  },
  {
   "cell_type": "code",
   "execution_count": 18,
   "metadata": {},
   "outputs": [],
   "source": [
    "import socket\n",
    "import cv2\n",
    "import time\n",
    "\n",
    "server = socket.socket(socket.AF_INET, socket.SOCK_DGRAM)\n",
    "server.bind(('', 50000))\n",
    "\n",
    "My_video = '/Users/winlab/Desktop/Yes.mp4'\n",
    "cap = cv2.VideoCapture(My_video)\n",
    "video = open(My_video,'rb')\n",
    "data = video.read()\n",
    "\n",
    "ip = '203.255.56.63'\n",
    "port = 45000\n",
    "\n",
    "header = data.find(b'mdat') + 5\n",
    "l = len(data[header:])\n",
    "n_h = 1\n",
    "n_d = 1\n",
    "\n",
    "def frag(N):\n",
    "    n = 1\n",
    "    while 1:\n",
    "        if N/n >= 65536:\n",
    "            n += 1\n",
    "        else:\n",
    "            return n\n",
    "\n",
    "n_h = frag(header)\n",
    "n_d = frag(l)\n",
    "\n",
    "server.sendto(str(n_h).encode(), (ip, port))\n",
    "server.sendto(str(n_d).encode(), (ip, port))\n",
    "server.sendto(str(cap.get(7)).encode(), (ip,port))\n",
    "\n",
    "for i in range(n_h):\n",
    "    server.sendto(data[i*header//n_h : (i+1)*header//n_h], (ip, port))\n",
    "    time.sleep(0.001)\n",
    "\n",
    "for i in range(n_d):\n",
    "    server.sendto(data[header + i*l//n_d : header + (i+1)*l//n_d], (ip, port))\n",
    "    time.sleep(0.001*n_d)\n",
    "\n",
    "server.close()"
   ]
  },
  {
   "cell_type": "code",
   "execution_count": 102,
   "metadata": {},
   "outputs": [
    {
     "data": {
      "text/plain": [
       "79190"
      ]
     },
     "execution_count": 102,
     "metadata": {},
     "output_type": "execute_result"
    }
   ],
   "source": [
    "data.find(b'mdat')"
   ]
  },
  {
   "cell_type": "code",
   "execution_count": null,
   "metadata": {},
   "outputs": [],
   "source": []
  }
 ],
 "metadata": {
  "kernelspec": {
   "display_name": "Python 3",
   "language": "python",
   "name": "python3"
  },
  "language_info": {
   "codemirror_mode": {
    "name": "ipython",
    "version": 3
   },
   "file_extension": ".py",
   "mimetype": "text/x-python",
   "name": "python",
   "nbconvert_exporter": "python",
   "pygments_lexer": "ipython3",
   "version": "3.7.0"
  }
 },
 "nbformat": 4,
 "nbformat_minor": 2
}
