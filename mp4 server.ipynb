{
 "cells": [
  {
   "cell_type": "markdown",
   "metadata": {},
   "source": [
    "# mp4 파일 전송"
   ]
  },
  {
   "cell_type": "code",
   "execution_count": null,
   "metadata": {},
   "outputs": [],
   "source": [
    "import socket\n",
    "import time\n",
    "\n",
    "server = socket.socket(socket.AF_INET, socket.SOCK_DGRAM, socket.IPPROTO_UDP)\n",
    "server.setsockopt(socket.SOL_SOCKET, socket.SO_BROADCAST, 1)\n",
    "server.bind(('', 50000))\n",
    "\n",
    "My_video = '/Users/winlab/Desktop/Summer.mp4'\n",
    "video = open(My_video,'rb')\n",
    "data = video.read()\n",
    "\n",
    "port = 45000\n",
    "\n",
    "header = data.find(b'mdat') + 5\n",
    "l = len(data[header:])\n",
    "n_h = 1\n",
    "n_d = 1\n",
    "\n",
    "def frag(N):\n",
    "    n = 1\n",
    "    while 1:\n",
    "        if N/n >= 60000:\n",
    "            n += 1\n",
    "        else:\n",
    "            return n\n",
    "\n",
    "n_h = frag(header)\n",
    "n_d = frag(l)\n",
    "\n",
    "server.sendto(str(n_h).encode(), ('<broadcast>',port))\n",
    "server.sendto(str(n_d).encode(), ('<broadcast>',port))\n",
    "\n",
    "for i in range(n_h):\n",
    "    server.sendto(data[i*header//n_h : (i+1)*header//n_h], ('<broadcast>',port))\n",
    "    time.sleep(0.01)\n",
    "\n",
    "for i in range(n_d):\n",
    "    server.sendto(data[header + i*l//n_d : header + (i+1)*l//n_d], ('<broadcast>',port))\n",
    "    time.sleep(0.01)\n",
    "\n",
    "server.close()"
   ]
  },
  {
   "cell_type": "markdown",
   "metadata": {},
   "source": [
    "# 인덱싱된 mp4 파일 전송"
   ]
  },
  {
   "cell_type": "code",
   "execution_count": 1,
   "metadata": {},
   "outputs": [],
   "source": [
    "import numpy as np\n",
    "import socket\n",
    "import time\n",
    "\n",
    "def indexing_mp4(v_path1, v_path2):\n",
    "    with open(v_path1, 'rb') as v1:  # 첫번째 영상 바이너리 형식으로 읽어오기\n",
    "        v1_data = v1.read()\n",
    "        \n",
    "    with open(v_path2, 'rb') as v2: # 두번째 영상 바이너리 형식으로 읽어오기\n",
    "        v2_data = v2.read()\n",
    "    \n",
    "    data_idx1 = v1_data.find(b'mdat')\n",
    "    header_idx1 = v1_data.find(b'moov')\n",
    "    \n",
    "    if data_idx1 < header_idx1:\n",
    "        print(\"can't stream\")\n",
    "        return\n",
    "    \n",
    "    data_idx2 = v2_data.find(b'mdat')\n",
    "    header_idx2 = v2_data.find(b'moov')\n",
    "    \n",
    "    if data_idx2 < header_idx2:\n",
    "        print(\"can't stream\")\n",
    "        return\n",
    "    \n",
    "    np_v1 = np.frombuffer(v1_data, dtype='uint8') # 바이너리 해석\n",
    "    np_v2 = np.frombuffer(v2_data, dtype='uint8')\n",
    "\n",
    "    l1 = len(np_v1)\n",
    "    l2 = len(np_v2)\n",
    "    if l2 < l1:\n",
    "        xor_len = l2\n",
    "        add_data = np_v1[l2:l1]\n",
    "    else:\n",
    "        xor_len = l1\n",
    "        add_data = np_v2[l1:l2]\n",
    "        \n",
    "    # 데이터의 길이를 비교\n",
    "    \n",
    "    xor_v = np.bitwise_xor(np_v1[:xor_len], np_v2[:xor_len]) # xor 연산\n",
    "    xor_v_data = np.append(xor_v, add_data)\n",
    "\n",
    "    xor_v_bin = xor_v_data.tostring() # 택 데이터 바이너리화\n",
    "    return xor_v_bin, max(data_idx1, data_idx2) + 5\n",
    "\n",
    "server = socket.socket(socket.AF_INET, socket.SOCK_DGRAM, socket.IPPROTO_UDP)\n",
    "server.setsockopt(socket.SOL_SOCKET, socket.SO_BROADCAST, 1)\n",
    "server.bind(('', 50000))\n",
    "\n",
    "v_path1 = '/Users/winlab/Desktop/Yes.mp4'\n",
    "v_path2 = '/Users/winlab/Desktop/Summer.mp4'\n",
    "stream_data, header = indexing_mp4(v_path1, v_path2)\n",
    "\n",
    "My_video = '/Users/winlab/Desktop/indexing.mp4'\n",
    "open(My_video, 'wb').write(stream_data)\n",
    "\n",
    "video = open(My_video,'rb')\n",
    "data = video.read()\n",
    "\n",
    "l = len(data[header:])\n",
    "n_h = 1\n",
    "n_d = 1\n",
    "\n",
    "def frag(N):\n",
    "    n = 1\n",
    "    while 1:\n",
    "        if N/n >= 60000:\n",
    "            n += 1\n",
    "        else:\n",
    "            return n\n",
    "\n",
    "n_h = frag(header)\n",
    "n_d = frag(l)\n",
    "\n",
    "server.sendto(str(n_h).encode(), ('<broadcast>',45000))\n",
    "server.sendto(str(n_d).encode(), ('<broadcast>',45000))\n",
    "time.sleep(0.001)\n",
    "\n",
    "for i in range(n_h):\n",
    "    server.sendto(data[i*header//n_h : (i+1)*header//n_h], ('<broadcast>',45000))\n",
    "    time.sleep(0.1)\n",
    "\n",
    "for i in range(n_d):\n",
    "    server.sendto(data[header + i*l//n_d : header + (i+1)*l//n_d], ('<broadcast>',45000))\n",
    "    time.sleep(0.1)\n",
    "\n",
    "server.close()"
   ]
  },
  {
   "cell_type": "code",
   "execution_count": 3,
   "metadata": {},
   "outputs": [
    {
     "data": {
      "text/plain": [
       "59993"
      ]
     },
     "execution_count": 3,
     "metadata": {},
     "output_type": "execute_result"
    }
   ],
   "source": [
    "l//n_d"
   ]
  },
  {
   "cell_type": "code",
   "execution_count": 9,
   "metadata": {},
   "outputs": [
    {
     "data": {
      "text/plain": [
       "39597"
      ]
     },
     "execution_count": 9,
     "metadata": {},
     "output_type": "execute_result"
    }
   ],
   "source": [
    "header//n_h"
   ]
  },
  {
   "cell_type": "code",
   "execution_count": null,
   "metadata": {},
   "outputs": [],
   "source": []
  }
 ],
 "metadata": {
  "kernelspec": {
   "display_name": "Python 3",
   "language": "python",
   "name": "python3"
  },
  "language_info": {
   "codemirror_mode": {
    "name": "ipython",
    "version": 3
   },
   "file_extension": ".py",
   "mimetype": "text/x-python",
   "name": "python",
   "nbconvert_exporter": "python",
   "pygments_lexer": "ipython3",
   "version": "3.7.0"
  }
 },
 "nbformat": 4,
 "nbformat_minor": 2
}
