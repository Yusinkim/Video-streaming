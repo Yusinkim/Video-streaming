{
 "cells": [
  {
   "cell_type": "code",
   "execution_count": 60,
   "metadata": {},
   "outputs": [
    {
     "name": "stdout",
     "output_type": "stream",
     "text": [
      "0~9999 sent!\n",
      "10000~19999 sent!\n",
      "20000~29999 sent!\n",
      "30000~39999 sent!\n",
      "40000~49999 sent!\n",
      "50000~59999 sent!\n",
      "60000~69999 sent!\n",
      "70000~79999 sent!\n",
      "80000~89999 sent!\n",
      "90000~99999 sent!\n",
      "100000~109999 sent!\n",
      "110000~119999 sent!\n",
      "120000~129999 sent!\n",
      "130000~139999 sent!\n",
      "140000~149999 sent!\n",
      "150000~159999 sent!\n",
      "finished!\n"
     ]
    }
   ],
   "source": [
    "import socket\n",
    "from PIL import Image\n",
    "import numpy as np\n",
    "import time\n",
    "\n",
    "im = Image.open('Desktop/blaze.png')\n",
    "pix = np.array(im)\n",
    "shape = np.shape(pix)\n",
    "data = pix.reshape(-1)\n",
    "data = list(data)\n",
    "\n",
    "server = socket.socket(socket.AF_INET, socket.SOCK_DGRAM, socket.IPPROTO_UDP)\n",
    "server.setsockopt(socket.SOL_SOCKET, socket.SO_BROADCAST, 1)\n",
    "server.bind((\"\", 50000))\n",
    "\n",
    "n = (len(data))\n",
    "server.sendto(str(n).encode(), ('<broadcast>',45000))\n",
    "server.sendto(str(shape).encode(), ('<broadcast>',45000))\n",
    "\n",
    "size = 10000\n",
    "\n",
    "for i in [i*size for i in range(n//size)]:\n",
    "    server.sendto(str(data[i:i+size]).encode(),('<broadcast>',45000))\n",
    "    print('{}~{} sent!'.format(i,i+size-1))\n",
    "    time.sleep(0.05)\n",
    "server.sendto(str(data[i+size:]).encode(),('<broadcast>',45000))\n",
    "print('finished!')\n",
    "server.close()"
   ]
  },
  {
   "cell_type": "code",
   "execution_count": 16,
   "metadata": {},
   "outputs": [
    {
     "name": "stdout",
     "output_type": "stream",
     "text": [
      "finished!\n"
     ]
    }
   ],
   "source": [
    "import socket\n",
    "\n",
    "im = open('Desktop/blaze.png','rb')\n",
    "data = bytes(im.read())\n",
    "\n",
    "server = socket.socket(socket.AF_INET, socket.SOCK_DGRAM, socket.IPPROTO_UDP)\n",
    "server.setsockopt(socket.SOL_SOCKET, socket.SO_BROADCAST, 1)\n",
    "server.bind((\"\", 50000))\n",
    "\n",
    "server.sendto(data,('<broadcast>',45000))\n",
    "\n",
    "print('finished!')\n",
    "\n",
    "server.close()"
   ]
  },
  {
   "cell_type": "code",
   "execution_count": null,
   "metadata": {},
   "outputs": [],
   "source": []
  }
 ],
 "metadata": {
  "kernelspec": {
   "display_name": "Python 3",
   "language": "python",
   "name": "python3"
  },
  "language_info": {
   "codemirror_mode": {
    "name": "ipython",
    "version": 3
   },
   "file_extension": ".py",
   "mimetype": "text/x-python",
   "name": "python",
   "nbconvert_exporter": "python",
   "pygments_lexer": "ipython3",
   "version": "3.7.0"
  }
 },
 "nbformat": 4,
 "nbformat_minor": 2
}
