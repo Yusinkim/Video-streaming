{
 "cells": [
  {
   "cell_type": "markdown",
   "metadata": {},
   "source": [
    "# 이미지 전송"
   ]
  },
  {
   "cell_type": "code",
   "execution_count": 5,
   "metadata": {},
   "outputs": [
    {
     "name": "stdout",
     "output_type": "stream",
     "text": [
      "Finished!\n"
     ]
    }
   ],
   "source": [
    "import socket\n",
    "import numpy as np\n",
    "import cv2\n",
    "import time\n",
    "\n",
    "im = open('/Users/winlab/Desktop/blaze.png','rb')\n",
    "data = im.read()\n",
    "\n",
    "server = socket.socket(socket.AF_INET, socket.SOCK_DGRAM, socket.IPPROTO_UDP)\n",
    "server.setsockopt(socket.SOL_SOCKET, socket.SO_BROADCAST, 1)\n",
    "server.bind((\"\", 50000))\n",
    "\n",
    "l = len(data)\n",
    "n = 3\n",
    "\n",
    "server.sendto(str(n).encode(),('<broadcast>',45000))\n",
    "\n",
    "for i in range(n):\n",
    "    server.sendto(data[i*l//n:(i+1)*l//n],('<broadcast>',45000))\n",
    "    time.sleep(0.001)\n",
    "\n",
    "print('Finished!')\n",
    "\n",
    "server.close()"
   ]
  },
  {
   "cell_type": "code",
   "execution_count": 6,
   "metadata": {},
   "outputs": [
    {
     "ename": "error",
     "evalue": "OpenCV(3.4.5) C:\\projects\\opencv-python\\opencv\\modules\\imgcodecs\\src\\grfmt_base.cpp:145: error: (-10:Unknown error code -10) Raw image encoder error: Empty JPEG image (DNL not supported) in function 'cv::BaseImageEncoder::throwOnEror'\n",
     "output_type": "error",
     "traceback": [
      "\u001b[1;31m---------------------------------------------------------------------------\u001b[0m",
      "\u001b[1;31merror\u001b[0m                                     Traceback (most recent call last)",
      "\u001b[1;32m<ipython-input-6-314bae4b7c27>\u001b[0m in \u001b[0;36m<module>\u001b[1;34m()\u001b[0m\n\u001b[0;32m     10\u001b[0m \u001b[0mret\u001b[0m\u001b[1;33m,\u001b[0m \u001b[0mframe\u001b[0m \u001b[1;33m=\u001b[0m \u001b[0mim\u001b[0m\u001b[1;33m.\u001b[0m\u001b[0mread\u001b[0m\u001b[1;33m(\u001b[0m\u001b[1;33m)\u001b[0m\u001b[1;33m\u001b[0m\u001b[0m\n\u001b[0;32m     11\u001b[0m \u001b[1;33m\u001b[0m\u001b[0m\n\u001b[1;32m---> 12\u001b[1;33m \u001b[0mdata\u001b[0m \u001b[1;33m=\u001b[0m \u001b[0mcv2\u001b[0m\u001b[1;33m.\u001b[0m\u001b[0mimencode\u001b[0m\u001b[1;33m(\u001b[0m\u001b[1;34m'.jpg'\u001b[0m\u001b[1;33m,\u001b[0m \u001b[0mframe\u001b[0m\u001b[1;33m)\u001b[0m\u001b[1;33m[\u001b[0m\u001b[1;36m1\u001b[0m\u001b[1;33m]\u001b[0m\u001b[1;33m\u001b[0m\u001b[0m\n\u001b[0m\u001b[0;32m     13\u001b[0m \u001b[1;33m\u001b[0m\u001b[0m\n\u001b[0;32m     14\u001b[0m \u001b[0ml\u001b[0m \u001b[1;33m=\u001b[0m \u001b[0mlen\u001b[0m\u001b[1;33m(\u001b[0m\u001b[0mdata\u001b[0m\u001b[1;33m)\u001b[0m\u001b[1;33m\u001b[0m\u001b[0m\n",
      "\u001b[1;31merror\u001b[0m: OpenCV(3.4.5) C:\\projects\\opencv-python\\opencv\\modules\\imgcodecs\\src\\grfmt_base.cpp:145: error: (-10:Unknown error code -10) Raw image encoder error: Empty JPEG image (DNL not supported) in function 'cv::BaseImageEncoder::throwOnEror'\n"
     ]
    }
   ],
   "source": [
    "import socket\n",
    "import cv2\n",
    "import time\n",
    "\n",
    "server = socket.socket(socket.AF_INET, socket.SOCK_DGRAM, socket.IPPROTO_UDP)\n",
    "server.setsockopt(socket.SOL_SOCKET, socket.SO_BROADCAST, 1)\n",
    "server.bind((\"\", 50000))\n",
    "\n",
    "im = cv2.VideoCapture('/Users/winlab/Desktop/blaze.png')\n",
    "ret, frame = im.read()\n",
    "\n",
    "data = cv2.imencode('.jpg', frame)[1]\n",
    "\n",
    "l = len(data)\n",
    "n = 5\n",
    "\n",
    "server.sendto(str(n).encode(),('<broadcast>',45000))\n",
    "\n",
    "for i in range(n):\n",
    "    server.sendto(data[i*l//n:(i+1)*l//n],('<broadcast>',45000))\n",
    "    time.sleep(0.001)\n",
    "\n",
    "print('Finished')\n",
    "\n",
    "server.close()"
   ]
  },
  {
   "cell_type": "markdown",
   "metadata": {},
   "source": [
    "# 동영상 재생"
   ]
  },
  {
   "cell_type": "code",
   "execution_count": 7,
   "metadata": {},
   "outputs": [],
   "source": [
    "import cv2\n",
    "\n",
    "video = cv2.VideoCapture('/Users/winlab/Desktop/Video.mp4')\n",
    "f = round(1/video.get(5)*1000)\n",
    "\n",
    "frames = []\n",
    "for i in range(int(video.get(7))):\n",
    "    ret, frame = video.read()\n",
    "    frames += [frame]\n",
    "\n",
    "video.release()\n",
    "\n",
    "cv2.namedWindow('Video', cv2.WINDOW_NORMAL)\n",
    "for i in frames:\n",
    "    cv2.imshow('Video', i)\n",
    "    k = cv2.waitKey(f-3) & 0xFF\n",
    "\n",
    "cv2.destroyAllWindows()"
   ]
  },
  {
   "cell_type": "markdown",
   "metadata": {},
   "source": [
    "# 동영상 전송 (broadcast)"
   ]
  },
  {
   "cell_type": "code",
   "execution_count": 15,
   "metadata": {},
   "outputs": [
    {
     "name": "stdout",
     "output_type": "stream",
     "text": [
      "End of Transmission\n",
      "걸린시간 : 15.406299352645874\n"
     ]
    }
   ],
   "source": [
    "import socket\n",
    "import cv2\n",
    "import time\n",
    "\n",
    "server = socket.socket(socket.AF_INET, socket.SOCK_DGRAM, socket.IPPROTO_UDP)\n",
    "server.setsockopt(socket.SOL_SOCKET, socket.SO_BROADCAST, 1)\n",
    "server.bind((\"\", 50000))\n",
    "\n",
    "video = cv2.VideoCapture('/Users/winlab/Desktop/Video.mp4')\n",
    "server.sendto(str(video.get(7)).encode(),('<broadcast>',45000))\n",
    "server.sendto(str(video.get(5)).encode(),('<broadcast>',45000))\n",
    "\n",
    "n = 1\n",
    "server.sendto(str(n).encode(),('<broadcast>',45000))\n",
    "\n",
    "time.sleep(0.001)\n",
    "st = time.time()\n",
    "\n",
    "encode_parameter = [int(cv2.IMWRITE_JPEG_QUALITY), 50]\n",
    "while 1:\n",
    "    ret, frame = video.read()\n",
    "    if ret:\n",
    "        data = cv2.imencode('.jpg', frame, encode_parameter)[1]\n",
    "        l = len(data)\n",
    "        for i in range(n):\n",
    "            server.sendto(data[i*l//n:(i+1)*l//n],('<broadcast>',45000))\n",
    "        time.sleep(0.01)\n",
    "    else:\n",
    "        print('End of Transmission')\n",
    "        break\n",
    "\n",
    "print('걸린시간 : {}'.format(time.time() - st))\n",
    "\n",
    "video.release()"
   ]
  },
  {
   "cell_type": "code",
   "execution_count": 10,
   "metadata": {},
   "outputs": [
    {
     "data": {
      "text/plain": [
       "22158"
      ]
     },
     "execution_count": 10,
     "metadata": {},
     "output_type": "execute_result"
    }
   ],
   "source": [
    "len(data)"
   ]
  },
  {
   "cell_type": "markdown",
   "metadata": {},
   "source": [
    "# 재민's 동영상 전송 (TCP)"
   ]
  },
  {
   "cell_type": "code",
   "execution_count": 11,
   "metadata": {},
   "outputs": [],
   "source": [
    "import socket as sk\n",
    "import cv2\n",
    "import numpy as np\n",
    "\n",
    "def video_trans(name):\n",
    "    TCP_IP = '203.255.56.63'\n",
    "    TCP_PORT = 5001\n",
    "\n",
    "    TCP_srv_sk = sk.socket(sk.AF_INET, sk.SOCK_STREAM)\n",
    "    TCP_srv_sk.connect((TCP_IP, TCP_PORT))\n",
    "\n",
    "    cap = cv2.VideoCapture(name)\n",
    "    n = cap.get(7)\n",
    "    print(n)\n",
    "\n",
    "    for i in range(int(n)):\n",
    "        ret, frame = cap.read()\n",
    "        if not ret:\n",
    "            print('비디오 읽기 오류')\n",
    "            break\n",
    "\n",
    "        encode_parameter = [int(cv2.IMWRITE_JPEG_QUALITY), 90]\n",
    "        result, en_frame = cv2.imencode('.jpg', frame, encode_parameter)\n",
    "        if not result:\n",
    "            print('비디오 압축 오류')\n",
    "            break\n",
    "\n",
    "        frame_data = np.array(en_frame)\n",
    "        str_stream = frame_data.tostring()\n",
    "        try:\n",
    "            TCP_srv_sk.send(repr(len(str_stream)).ljust(16).encode('utf-8'));\n",
    "            TCP_srv_sk.send(str_stream);\n",
    "        except Exception as e:\n",
    "            print(e)\n",
    "            break\n",
    "\n",
    "    cap.release()\n",
    "    TCP_srv_sk.close()"
   ]
  },
  {
   "cell_type": "code",
   "execution_count": 15,
   "metadata": {},
   "outputs": [
    {
     "name": "stdout",
     "output_type": "stream",
     "text": [
      "339.0\n",
      "11.693938255310059\n"
     ]
    }
   ],
   "source": [
    "video_trans('/Users/winlab/Desktop/Video.mp4')"
   ]
  }
 ],
 "metadata": {
  "kernelspec": {
   "display_name": "Python 3",
   "language": "python",
   "name": "python3"
  },
  "language_info": {
   "codemirror_mode": {
    "name": "ipython",
    "version": 3
   },
   "file_extension": ".py",
   "mimetype": "text/x-python",
   "name": "python",
   "nbconvert_exporter": "python",
   "pygments_lexer": "ipython3",
   "version": "3.7.0"
  }
 },
 "nbformat": 4,
 "nbformat_minor": 2
}
